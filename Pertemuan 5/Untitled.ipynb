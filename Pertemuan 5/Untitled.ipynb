{
 "cells": [
  {
   "cell_type": "markdown",
   "id": "4b7c9b3b-0427-41d0-a7d9-d069443846e2",
   "metadata": {},
   "source": []
  },
  {
   "cell_type": "code",
   "execution_count": null,
   "id": "df8e243f-6da5-438f-9ecc-6d02d8e1fa5f",
   "metadata": {},
   "outputs": [],
   "source": [
    "# skala\n",
    "\n",
    "import cv2\n",
    "from google.colab.patches import cv2_imshow\n",
    "\n",
    "img = cv2.imread(\"C:\\\\Users\\\\mrhitj\\\\Pictures\\\\top cinco gatos momentos.jpg\")\n",
    "img = cv2.cvtColor(img, cv2.COLOR_BGR2RGB)\n",
    "\n",
    "dstSkala = cv2.resize(img, None, fx=2.5, fy=2, interpolation=cv2.INTER_CUBIC)\n",
    "cv2.imshow(\"1\",img)\n",
    "cv2.imshow(\"1\",dstSkala)"
   ]
  }
 ],
 "metadata": {
  "kernelspec": {
   "display_name": "Python 3 (ipykernel)",
   "language": "python",
   "name": "python3"
  },
  "language_info": {
   "codemirror_mode": {
    "name": "ipython",
    "version": 3
   },
   "file_extension": ".py",
   "mimetype": "text/x-python",
   "name": "python",
   "nbconvert_exporter": "python",
   "pygments_lexer": "ipython3",
   "version": "3.10.7"
  }
 },
 "nbformat": 4,
 "nbformat_minor": 5
}
